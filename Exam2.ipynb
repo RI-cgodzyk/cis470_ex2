{
  "nbformat": 4,
  "nbformat_minor": 0,
  "metadata": {
    "colab": {
      "name": "Exam2.ipynb",
      "provenance": [],
      "include_colab_link": true
    },
    "kernelspec": {
      "name": "python3",
      "display_name": "Python 3"
    }
  },
  "cells": [
    {
      "cell_type": "markdown",
      "metadata": {
        "id": "view-in-github",
        "colab_type": "text"
      },
      "source": [
        "<a href=\"https://colab.research.google.com/github/RI-cgodzyk/cis470_ex2/blob/master/Exam2.ipynb\" target=\"_parent\"><img src=\"https://colab.research.google.com/assets/colab-badge.svg\" alt=\"Open In Colab\"/></a>"
      ]
    },
    {
      "cell_type": "markdown",
      "metadata": {
        "id": "8yVTpWjkYbrj",
        "colab_type": "text"
      },
      "source": [
        "Below are the 3 questions as part of Exam 2 in CIS 470. Copy this Python Notebook to your google drive and submit the shared link. If your link is either 1. not accesible or 2. edited past the 90 min due time of the exam, the questions will be accepted for 0 points."
      ]
    },
    {
      "cell_type": "markdown",
      "metadata": {
        "id": "M4V7XSc7hhc7",
        "colab_type": "text"
      },
      "source": [
        "Q1. Decision Trees. In the code below we have a decision tree, you need to look at the input of leaves and determine how to increase our accuracy score. <br>[10 pts] for changing the model properly<br>[10pts] for achieving the highest accuracy score"
      ]
    },
    {
      "cell_type": "code",
      "metadata": {
        "id": "NgqVC2VvYZX3",
        "colab_type": "code",
        "colab": {}
      },
      "source": [
        "import pandas as pd\n",
        "from sklearn.metrics import accuracy_score\n",
        "from sklearn.model_selection import train_test_split\n",
        "from sklearn.tree import DecisionTreeClassifier\n",
        "\n",
        "data = pd.read_csv('https://raw.githubusercontent.com/RI-cgodzyk/cis470_ex2/master/weather.csv')\n",
        "\n",
        "data.columns\n",
        "del data['number']\n",
        "before_rows = data.shape[0]\n",
        "data = data.dropna()\n",
        "after_rows = data.shape[0]\n",
        "before_rows - after_rows\n",
        "clean_data = data.copy()\n",
        "clean_data['high_humidity_label'] = (clean_data['relative_humidity_3pm'] >24.99) *1\n",
        "clean_data['high_humidity_label'].head()\n",
        "y = clean_data[['high_humidity_label']].copy()\n",
        "morning_features = ['air_pressure_9am', 'air_temp_9am', 'avg_wind_direction_9am',\n",
        "       'avg_wind_speed_9am', 'max_wind_direction_9am', 'max_wind_speed_9am',\n",
        "       'rain_accumulation_9am', 'rain_duration_9am', 'relative_humidity_9am']\n",
        "x=clean_data[morning_features].copy()\n",
        "X_train,X_test,y_train,y_test = train_test_split(x,y,test_size=0.33,random_state=324)\n",
        "\n",
        "humidity_classifier = DecisionTreeClassifier(max_leaf_nodes=15,random_state=0)\n",
        "humidity_classifier.fit(X_train,y_train)\n",
        "type(humidity_classifier)\n",
        "y_predicted = humidity_classifier.predict(X_test)\n",
        "accuracy_score(y_test,y_predicted)*100\n",
        "\n",
        "\n",
        "\n"
      ],
      "execution_count": 0,
      "outputs": []
    },
    {
      "cell_type": "markdown",
      "metadata": {
        "id": "FjQ9j9UZY0Qv",
        "colab_type": "text"
      },
      "source": [
        "Q2.  Clusters. In the code below, we pull in a data set and set the number of clusters to generate a plot. Currently the code needs some edits in order to run properly.<br>\n",
        "[15pts] Edit the code below to have the ideal number of clusters for the plot.<br>\n",
        "[5pts] Edit the code below to show 3 different variations of plots"
      ]
    },
    {
      "cell_type": "code",
      "metadata": {
        "id": "hRHqjdDXdqxQ",
        "colab_type": "code",
        "colab": {}
      },
      "source": [
        "import pandas as pd\n",
        "df = pd.read_csv('https://raw.githubusercontent.com/RI-cgodzyk/cis470_ex2/master/ex2_q2.csv')\n",
        "points = df.values\n",
        "\n",
        "\n",
        "from sklearn.cluster import KMeans\n",
        "\n",
        "model = KMeans(n_clusters=0)\n",
        "model.fit(points)\n",
        "labels = model.predict(points)\n",
        "\n",
        "import matplotlib.pyplot as plt\n",
        "xs = points[:,0]\n",
        "ys = points[:,1]\n",
        "\n",
        "plt.scatter(xs,ys,c=labels)\n",
        "plt.show()\n"
      ],
      "execution_count": 0,
      "outputs": []
    },
    {
      "cell_type": "markdown",
      "metadata": {
        "id": "y-wyCSOgf5UA",
        "colab_type": "text"
      },
      "source": [
        "Q3 Confusion Matrix. The confusion matrix below prints out predicted values for a flipped coin. In the box below, answer how you could your results could have been different to improve precision, recall and support in the data set."
      ]
    },
    {
      "cell_type": "code",
      "metadata": {
        "id": "dw7Mfrn2jSEC",
        "colab_type": "code",
        "colab": {
          "base_uri": "https://localhost:8080/",
          "height": 255
        },
        "outputId": "33de02fe-5d39-4719-bd8a-577af8adf726"
      },
      "source": [
        "from sklearn.metrics import confusion_matrix\n",
        "from sklearn.metrics import accuracy_score\n",
        "from sklearn.metrics import classification_report\n",
        "actual = ['heads','heads','tails','heads','tails','heads','tails','tails','heads','heads','heads','tails']\n",
        "predicted = ['heads', 'heads', 'tails', 'heads', 'heads', 'heads', 'tails', 'tails', 'tails', 'tails','heads','heads']\n",
        "results = confusion_matrix(actual, predicted)\n",
        "print ('Confusion Matrix :')\n",
        "print(results)\n",
        "print ('Accuracy Score :',accuracy_score(actual, predicted))\n",
        "print('Classification Report : ')\n",
        "print (classification_report(actual, predicted))"
      ],
      "execution_count": 27,
      "outputs": [
        {
          "output_type": "stream",
          "text": [
            "Confusion Matrix :\n",
            "[[5 2]\n",
            " [2 3]]\n",
            "Accuracy Score : 0.6666666666666666\n",
            "Classification Report : \n",
            "              precision    recall  f1-score   support\n",
            "\n",
            "       heads       0.71      0.71      0.71         7\n",
            "       tails       0.60      0.60      0.60         5\n",
            "\n",
            "    accuracy                           0.67        12\n",
            "   macro avg       0.66      0.66      0.66        12\n",
            "weighted avg       0.67      0.67      0.67        12\n",
            "\n"
          ],
          "name": "stdout"
        }
      ]
    },
    {
      "cell_type": "markdown",
      "metadata": {
        "id": "i1_2Eu7YmlA0",
        "colab_type": "text"
      },
      "source": [
        "<type answer here>"
      ]
    }
  ]
}